{
 "cells": [
  {
   "cell_type": "code",
   "execution_count": 25,
   "metadata": {
    "collapsed": false
   },
   "outputs": [],
   "source": [
    "from bs4 import BeautifulSoup\n",
    "import urllib.request, re, csv"
   ]
  },
  {
   "cell_type": "code",
   "execution_count": 2,
   "metadata": {
    "collapsed": false
   },
   "outputs": [],
   "source": [
    "response = urllib.request.urlopen('https://scsapps.unl.edu/policereports/default.aspx')"
   ]
  },
  {
   "cell_type": "code",
   "execution_count": 3,
   "metadata": {
    "collapsed": true
   },
   "outputs": [],
   "source": [
    "soup = BeautifulSoup(response, 'html.parser')"
   ]
  },
  {
   "cell_type": "code",
   "execution_count": 4,
   "metadata": {
    "collapsed": false
   },
   "outputs": [],
   "source": [
    "uls = soup.find_all('ul')"
   ]
  },
  {
   "cell_type": "code",
   "execution_count": 5,
   "metadata": {
    "collapsed": false
   },
   "outputs": [],
   "source": [
    "links = uls[9].find_all('a')"
   ]
  },
  {
   "cell_type": "code",
   "execution_count": 6,
   "metadata": {
    "collapsed": true
   },
   "outputs": [],
   "source": [
    "root_url = \"https://scsapps.unl.edu/policereports/\""
   ]
  },
  {
   "cell_type": "code",
   "execution_count": 33,
   "metadata": {
    "collapsed": false
   },
   "outputs": [],
   "source": [
    "with open('unlcrime.csv', 'a', encoding=\"utf-8\") as csvfile:\n",
    "    for link in links:\n",
    "        detail = urllib.request.urlopen('%s%s' % (root_url, link['href']))\n",
    "        detail_soup = BeautifulSoup(detail, 'html.parser')\n",
    "        tds = detail_soup.find_all('td')\n",
    "        inc = tds[3].text\n",
    "        incident = inc.replace('Incident Number:', '').lstrip(' ')\n",
    "        rep = tds[5].text\n",
    "        reported = rep.replace('Date/Time Reported:', '').lstrip(' ')\n",
    "        oc = tds[9].text\n",
    "        occurred = oc.replace('Occurred Date:', '').lstrip(' ')\n",
    "        building = tds[12].text\n",
    "        address = tds[14].text\n",
    "        campus = tds[16].text\n",
    "        city = tds[18].text\n",
    "        location_code = tds[20].text\n",
    "        state = tds[22].text\n",
    "        incident_code = tds[24].text\n",
    "        synopsis = detail_soup.find(id=re.compile('.*_Synopsis$')).text\n",
    "        spamwriter = csv.writer(csvfile)\n",
    "        spamwriter.writerow([incident, reported, occurred, building, address, campus, city, state, location_code, incident_code, synopsis])    "
   ]
  },
  {
   "cell_type": "code",
   "execution_count": null,
   "metadata": {
    "collapsed": true
   },
   "outputs": [],
   "source": []
  }
 ],
 "metadata": {
  "kernelspec": {
   "display_name": "Python 3",
   "language": "python",
   "name": "python3"
  },
  "language_info": {
   "codemirror_mode": {
    "name": "ipython",
    "version": 3
   },
   "file_extension": ".py",
   "mimetype": "text/x-python",
   "name": "python",
   "nbconvert_exporter": "python",
   "pygments_lexer": "ipython3",
   "version": "3.5.1"
  }
 },
 "nbformat": 4,
 "nbformat_minor": 0
}

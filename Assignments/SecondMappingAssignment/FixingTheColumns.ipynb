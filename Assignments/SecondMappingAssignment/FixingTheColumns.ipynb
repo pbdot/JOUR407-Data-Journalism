{
 "cells": [
  {
   "cell_type": "code",
   "execution_count": 1,
   "metadata": {
    "collapsed": true
   },
   "outputs": [],
   "source": [
    "import agate"
   ]
  },
  {
   "cell_type": "code",
   "execution_count": 4,
   "metadata": {
    "collapsed": true
   },
   "outputs": [],
   "source": [
    "tester = agate.TypeTester(force={\n",
    "    'FIPS': agate.Text(),\n",
    "    'CombinedFIPS': agate.Text(),\n",
    "})\n",
    "\n",
    "natural = agate.Table.from_csv('../../Data/naturalamenities.csv', column_types=tester)"
   ]
  },
  {
   "cell_type": "code",
   "execution_count": 5,
   "metadata": {
    "collapsed": false
   },
   "outputs": [
    {
     "name": "stdout",
     "output_type": "stream",
     "text": [
      "|-------------------------+---------------|\n",
      "|  column_names           | column_types  |\n",
      "|-------------------------+---------------|\n",
      "|  FIPS                   | Text          |\n",
      "|  CombinedFIPS           | Text          |\n",
      "|  STATE                  | Text          |\n",
      "|  County name            | Text          |\n",
      "|  CensusDivision         | Number        |\n",
      "|  RuralUrbanCode         | Number        |\n",
      "|  UrbanInfluenceCode     | Number        |\n",
      "|  MeanJanuaryTemp        | Number        |\n",
      "|  MeanJanuarySun         | Number        |\n",
      "|  MeanJulyTemp           | Number        |\n",
      "|  MeanJulyHumidity       | Number        |\n",
      "|  TopographyCode         | Number        |\n",
      "|  PercentWaterArea       | Number        |\n",
      "|  NaturalLogPercentWater | Number        |\n",
      "|  JanTempZScore          | Number        |\n",
      "|  JanSunZScore           | Number        |\n",
      "|  JulyTempZScore         | Number        |\n",
      "|  JulyHumidityZScore     | Number        |\n",
      "|  TopoZScore             | Number        |\n",
      "|  WaterAreaZScore        | Number        |\n",
      "|  NaturalAmenityScale    | Number        |\n",
      "|  NaturualAmenityRank    | Number        |\n",
      "|-------------------------+---------------|\n",
      "\n"
     ]
    }
   ],
   "source": [
    "print(natural)"
   ]
  },
  {
   "cell_type": "code",
   "execution_count": null,
   "metadata": {
    "collapsed": false
   },
   "outputs": [],
   "source": []
  },
  {
   "cell_type": "code",
   "execution_count": null,
   "metadata": {
    "collapsed": true
   },
   "outputs": [],
   "source": []
  },
  {
   "cell_type": "code",
   "execution_count": null,
   "metadata": {
    "collapsed": true
   },
   "outputs": [],
   "source": []
  }
 ],
 "metadata": {
  "kernelspec": {
   "display_name": "Python 3",
   "language": "python",
   "name": "python3"
  },
  "language_info": {
   "codemirror_mode": {
    "name": "ipython",
    "version": 3
   },
   "file_extension": ".py",
   "mimetype": "text/x-python",
   "name": "python",
   "nbconvert_exporter": "python",
   "pygments_lexer": "ipython3",
   "version": "3.5.1"
  }
 },
 "nbformat": 4,
 "nbformat_minor": 0
}

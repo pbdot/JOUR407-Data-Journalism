{
 "cells": [
  {
   "cell_type": "code",
   "execution_count": 1,
   "metadata": {
    "collapsed": true
   },
   "outputs": [],
   "source": [
    "import agate"
   ]
  },
  {
   "cell_type": "code",
   "execution_count": 6,
   "metadata": {
    "collapsed": false
   },
   "outputs": [],
   "source": [
    "counties = agate.Table.from_csv('../../Data/county_estimates.csv')"
   ]
  },
  {
   "cell_type": "code",
   "execution_count": 7,
   "metadata": {
    "collapsed": false
   },
   "outputs": [
    {
     "name": "stdout",
     "output_type": "stream",
     "text": [
      "|------------------------+---------------|\n",
      "|  column_names          | column_types  |\n",
      "|------------------------+---------------|\n",
      "|  SUMLEV                | Number        |\n",
      "|  REGION                | Number        |\n",
      "|  DIVISION              | Number        |\n",
      "|  STATE                 | Number        |\n",
      "|  COUNTY                | Number        |\n",
      "|  STNAME                | Text          |\n",
      "|  CTYNAME               | Text          |\n",
      "|  CENSUS2010POP         | Number        |\n",
      "|  ESTIMATESBASE2010     | Number        |\n",
      "|  POPESTIMATE2010       | Number        |\n",
      "|  POPESTIMATE2011       | Number        |\n",
      "|  POPESTIMATE2012       | Number        |\n",
      "|  POPESTIMATE2013       | Number        |\n",
      "|  POPESTIMATE2014       | Number        |\n",
      "|  NPOPCHG_2010          | Number        |\n",
      "|  NPOPCHG_2011          | Number        |\n",
      "|  NPOPCHG_2012          | Number        |\n",
      "|  NPOPCHG_2013          | Number        |\n",
      "|  NPOPCHG_2014          | Number        |\n",
      "|  BIRTHS2010            | Number        |\n",
      "|  BIRTHS2011            | Number        |\n",
      "|  BIRTHS2012            | Number        |\n",
      "|  BIRTHS2013            | Number        |\n",
      "|  BIRTHS2014            | Number        |\n",
      "|  DEATHS2010            | Number        |\n",
      "|  DEATHS2011            | Number        |\n",
      "|  DEATHS2012            | Number        |\n",
      "|  DEATHS2013            | Number        |\n",
      "|  DEATHS2014            | Number        |\n",
      "|  NATURALINC2010        | Number        |\n",
      "|  NATURALINC2011        | Number        |\n",
      "|  NATURALINC2012        | Number        |\n",
      "|  NATURALINC2013        | Number        |\n",
      "|  NATURALINC2014        | Number        |\n",
      "|  INTERNATIONALMIG2010  | Number        |\n",
      "|  INTERNATIONALMIG2011  | Number        |\n",
      "|  INTERNATIONALMIG2012  | Number        |\n",
      "|  INTERNATIONALMIG2013  | Number        |\n",
      "|  INTERNATIONALMIG2014  | Number        |\n",
      "|  DOMESTICMIG2010       | Number        |\n",
      "|  DOMESTICMIG2011       | Number        |\n",
      "|  DOMESTICMIG2012       | Number        |\n",
      "|  DOMESTICMIG2013       | Number        |\n",
      "|  DOMESTICMIG2014       | Number        |\n",
      "|  NETMIG2010            | Number        |\n",
      "|  NETMIG2011            | Number        |\n",
      "|  NETMIG2012            | Number        |\n",
      "|  NETMIG2013            | Number        |\n",
      "|  NETMIG2014            | Number        |\n",
      "|  RESIDUAL2010          | Number        |\n",
      "|  RESIDUAL2011          | Number        |\n",
      "|  RESIDUAL2012          | Number        |\n",
      "|  RESIDUAL2013          | Number        |\n",
      "|  RESIDUAL2014          | Number        |\n",
      "|  GQESTIMATESBASE2010   | Number        |\n",
      "|  GQESTIMATES2010       | Number        |\n",
      "|  GQESTIMATES2011       | Number        |\n",
      "|  GQESTIMATES2012       | Number        |\n",
      "|  GQESTIMATES2013       | Number        |\n",
      "|  GQESTIMATES2014       | Number        |\n",
      "|  RBIRTH2011            | Number        |\n",
      "|  RBIRTH2012            | Number        |\n",
      "|  RBIRTH2013            | Number        |\n",
      "|  RBIRTH2014            | Number        |\n",
      "|  RDEATH2011            | Number        |\n",
      "|  RDEATH2012            | Number        |\n",
      "|  RDEATH2013            | Number        |\n",
      "|  RDEATH2014            | Number        |\n",
      "|  RNATURALINC2011       | Number        |\n",
      "|  RNATURALINC2012       | Number        |\n",
      "|  RNATURALINC2013       | Number        |\n",
      "|  RNATURALINC2014       | Number        |\n",
      "|  RINTERNATIONALMIG2011 | Number        |\n",
      "|  RINTERNATIONALMIG2012 | Number        |\n",
      "|  RINTERNATIONALMIG2013 | Number        |\n",
      "|  RINTERNATIONALMIG2014 | Number        |\n",
      "|  RDOMESTICMIG2011      | Number        |\n",
      "|  RDOMESTICMIG2012      | Number        |\n",
      "|  RDOMESTICMIG2013      | Number        |\n",
      "|  RDOMESTICMIG2014      | Number        |\n",
      "|  RNETMIG2011           | Number        |\n",
      "|  RNETMIG2012           | Number        |\n",
      "|  RNETMIG2013           | Number        |\n",
      "|  RNETMIG2014           | Number        |\n",
      "|------------------------+---------------|\n",
      "\n"
     ]
    }
   ],
   "source": [
    "print(counties)"
   ]
  },
  {
   "cell_type": "code",
   "execution_count": 10,
   "metadata": {
    "collapsed": true
   },
   "outputs": [],
   "source": [
    "tester = agate.TypeTester(force={\n",
    "    'SUMLEV': agate.Text(),\n",
    "    'REGION': agate.Text(),\n",
    "    'DIVISION': agate.Text(),\n",
    "    'STATE': agate.Text(),\n",
    "    'COUNTY': agate.Text(),       \n",
    "})\n",
    "\n",
    "counties2 = agate.Table.from_csv('../../Data/county_estimates.csv', column_types=tester)"
   ]
  },
  {
   "cell_type": "code",
   "execution_count": 11,
   "metadata": {
    "collapsed": false
   },
   "outputs": [
    {
     "name": "stdout",
     "output_type": "stream",
     "text": [
      "|------------------------+---------------|\n",
      "|  column_names          | column_types  |\n",
      "|------------------------+---------------|\n",
      "|  SUMLEV                | Text          |\n",
      "|  REGION                | Text          |\n",
      "|  DIVISION              | Text          |\n",
      "|  STATE                 | Text          |\n",
      "|  COUNTY                | Text          |\n",
      "|  STNAME                | Text          |\n",
      "|  CTYNAME               | Text          |\n",
      "|  CENSUS2010POP         | Number        |\n",
      "|  ESTIMATESBASE2010     | Number        |\n",
      "|  POPESTIMATE2010       | Number        |\n",
      "|  POPESTIMATE2011       | Number        |\n",
      "|  POPESTIMATE2012       | Number        |\n",
      "|  POPESTIMATE2013       | Number        |\n",
      "|  POPESTIMATE2014       | Number        |\n",
      "|  NPOPCHG_2010          | Number        |\n",
      "|  NPOPCHG_2011          | Number        |\n",
      "|  NPOPCHG_2012          | Number        |\n",
      "|  NPOPCHG_2013          | Number        |\n",
      "|  NPOPCHG_2014          | Number        |\n",
      "|  BIRTHS2010            | Number        |\n",
      "|  BIRTHS2011            | Number        |\n",
      "|  BIRTHS2012            | Number        |\n",
      "|  BIRTHS2013            | Number        |\n",
      "|  BIRTHS2014            | Number        |\n",
      "|  DEATHS2010            | Number        |\n",
      "|  DEATHS2011            | Number        |\n",
      "|  DEATHS2012            | Number        |\n",
      "|  DEATHS2013            | Number        |\n",
      "|  DEATHS2014            | Number        |\n",
      "|  NATURALINC2010        | Number        |\n",
      "|  NATURALINC2011        | Number        |\n",
      "|  NATURALINC2012        | Number        |\n",
      "|  NATURALINC2013        | Number        |\n",
      "|  NATURALINC2014        | Number        |\n",
      "|  INTERNATIONALMIG2010  | Number        |\n",
      "|  INTERNATIONALMIG2011  | Number        |\n",
      "|  INTERNATIONALMIG2012  | Number        |\n",
      "|  INTERNATIONALMIG2013  | Number        |\n",
      "|  INTERNATIONALMIG2014  | Number        |\n",
      "|  DOMESTICMIG2010       | Number        |\n",
      "|  DOMESTICMIG2011       | Number        |\n",
      "|  DOMESTICMIG2012       | Number        |\n",
      "|  DOMESTICMIG2013       | Number        |\n",
      "|  DOMESTICMIG2014       | Number        |\n",
      "|  NETMIG2010            | Number        |\n",
      "|  NETMIG2011            | Number        |\n",
      "|  NETMIG2012            | Number        |\n",
      "|  NETMIG2013            | Number        |\n",
      "|  NETMIG2014            | Number        |\n",
      "|  RESIDUAL2010          | Number        |\n",
      "|  RESIDUAL2011          | Number        |\n",
      "|  RESIDUAL2012          | Number        |\n",
      "|  RESIDUAL2013          | Number        |\n",
      "|  RESIDUAL2014          | Number        |\n",
      "|  GQESTIMATESBASE2010   | Number        |\n",
      "|  GQESTIMATES2010       | Number        |\n",
      "|  GQESTIMATES2011       | Number        |\n",
      "|  GQESTIMATES2012       | Number        |\n",
      "|  GQESTIMATES2013       | Number        |\n",
      "|  GQESTIMATES2014       | Number        |\n",
      "|  RBIRTH2011            | Number        |\n",
      "|  RBIRTH2012            | Number        |\n",
      "|  RBIRTH2013            | Number        |\n",
      "|  RBIRTH2014            | Number        |\n",
      "|  RDEATH2011            | Number        |\n",
      "|  RDEATH2012            | Number        |\n",
      "|  RDEATH2013            | Number        |\n",
      "|  RDEATH2014            | Number        |\n",
      "|  RNATURALINC2011       | Number        |\n",
      "|  RNATURALINC2012       | Number        |\n",
      "|  RNATURALINC2013       | Number        |\n",
      "|  RNATURALINC2014       | Number        |\n",
      "|  RINTERNATIONALMIG2011 | Number        |\n",
      "|  RINTERNATIONALMIG2012 | Number        |\n",
      "|  RINTERNATIONALMIG2013 | Number        |\n",
      "|  RINTERNATIONALMIG2014 | Number        |\n",
      "|  RDOMESTICMIG2011      | Number        |\n",
      "|  RDOMESTICMIG2012      | Number        |\n",
      "|  RDOMESTICMIG2013      | Number        |\n",
      "|  RDOMESTICMIG2014      | Number        |\n",
      "|  RNETMIG2011           | Number        |\n",
      "|  RNETMIG2012           | Number        |\n",
      "|  RNETMIG2013           | Number        |\n",
      "|  RNETMIG2014           | Number        |\n",
      "|------------------------+---------------|\n",
      "\n"
     ]
    }
   ],
   "source": [
    "print(counties2)"
   ]
  },
  {
   "cell_type": "code",
   "execution_count": 15,
   "metadata": {
    "collapsed": false
   },
   "outputs": [],
   "source": [
    "counties_change = counties2.compute([\n",
    "    ('change1014', agate.PercentChange('POPESTIMATE2010', 'POPESTIMATE2014')),\n",
    "    ('GEOID', agate.Formula(agate.Text(), lambda row: '%s%s' % (row['STATE'], row['COUNTY'])))\n",
    "])"
   ]
  },
  {
   "cell_type": "code",
   "execution_count": 23,
   "metadata": {
    "collapsed": false
   },
   "outputs": [],
   "source": [
    "countymap = counties_change.where(lambda row: row['SUMLEV'] == '050' and row['STATE'] == '31').select(['GEOID', 'change1014'])"
   ]
  },
  {
   "cell_type": "code",
   "execution_count": 24,
   "metadata": {
    "collapsed": false
   },
   "outputs": [
    {
     "name": "stdout",
     "output_type": "stream",
     "text": [
      "|--------+---------------------------------|\n",
      "|  GEOID |                     change1014  |\n",
      "|--------+---------------------------------|\n",
      "|  31001 |  0.395748890945648357961254907  |\n",
      "|  31003 | -3.905076599579453289276058877  |\n",
      "|  31005 | -2.370689655172413793103448276  |\n",
      "|  31007 |  9.455587392550143266475644699  |\n",
      "|  31009 |  6.779661016949152542372881356  |\n",
      "|  ...   |                            ...  |\n",
      "|--------+---------------------------------|\n"
     ]
    }
   ],
   "source": [
    "countymap.print_table(max_rows=5)"
   ]
  },
  {
   "cell_type": "code",
   "execution_count": 25,
   "metadata": {
    "collapsed": true
   },
   "outputs": [],
   "source": [
    "countymap.to_csv('countymap.csv')"
   ]
  },
  {
   "cell_type": "code",
   "execution_count": null,
   "metadata": {
    "collapsed": true
   },
   "outputs": [],
   "source": []
  }
 ],
 "metadata": {
  "kernelspec": {
   "display_name": "Python 3",
   "language": "python",
   "name": "python3"
  },
  "language_info": {
   "codemirror_mode": {
    "name": "ipython",
    "version": 3
   },
   "file_extension": ".py",
   "mimetype": "text/x-python",
   "name": "python",
   "nbconvert_exporter": "python",
   "pygments_lexer": "ipython3",
   "version": "3.5.1"
  }
 },
 "nbformat": 4,
 "nbformat_minor": 0
}
